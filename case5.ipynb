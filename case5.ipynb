{
 "cells": [
  {
   "cell_type": "code",
   "execution_count": null,
   "id": "c586a6b2",
   "metadata": {},
   "outputs": [],
   "source": [
    "!curl -s -X POST \\\n",
    "  \"https://generativelanguage.googleapis.com/v1beta/models/gemini-2.0-flash-preview-image-generation:generateContent?key=$GEMINI_API_KEY\" \\\n",
    "  -H \"Content-Type: application/json\" \\\n",
    "  -d @case5.json \\\n",
    "  | grep -o '\"data\": \"[^\"]*\"' \\\n",
    "  | cut -d'\"' -f4 \\\n",
    "  | base64 --decode > gemini-native-image.png"
   ]
  }
 ],
 "metadata": {
  "kernelspec": {
   "display_name": "Python 3",
   "language": "python",
   "name": "python3"
  },
  "language_info": {
   "codemirror_mode": {
    "name": "ipython",
    "version": 3
   },
   "file_extension": ".py",
   "mimetype": "text/x-python",
   "name": "python",
   "nbconvert_exporter": "python",
   "pygments_lexer": "ipython3",
   "version": "3.10.12"
  }
 },
 "nbformat": 4,
 "nbformat_minor": 5
}
