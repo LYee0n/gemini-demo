{
 "cells": [
  {
   "cell_type": "code",
   "execution_count": null,
   "id": "71fa8de0",
   "metadata": {},
   "outputs": [],
   "source": [
    "%set_env GEMINI_API_KEY="
   ]
  },
  {
   "cell_type": "code",
   "execution_count": 5,
   "id": "38fbf188",
   "metadata": {},
   "outputs": [
    {
     "name": "stdout",
     "output_type": "stream",
     "text": [
      "  % Total    % Received % Xferd  Average Speed   Time    Time     Time  Current\n",
      "                                 Dload  Upload   Total   Spent    Left  Speed\n",
      "  0     0    0     0    0     0      0      0 --:--:-- --:--:-- --:--:--     0"
     ]
    },
    {
     "name": "stdout",
     "output_type": "stream",
     "text": [
      "100 69017    0   958  100 68059   1102  78315 --:--:-- --:--:-- --:--:-- 79421\n",
      "\u001b[1;39m{\n",
      "  \u001b[0m\u001b[34;1m\"candidates\"\u001b[0m\u001b[1;39m: \u001b[0m\u001b[1;39m[\n",
      "    \u001b[1;39m{\n",
      "      \u001b[0m\u001b[34;1m\"content\"\u001b[0m\u001b[1;39m: \u001b[0m\u001b[1;39m{\n",
      "        \u001b[0m\u001b[34;1m\"parts\"\u001b[0m\u001b[1;39m: \u001b[0m\u001b[1;39m[\n",
      "          \u001b[1;39m{\n",
      "            \u001b[0m\u001b[34;1m\"text\"\u001b[0m\u001b[1;39m: \u001b[0m\u001b[0;32m\"What programming language would you like to use for the quicksort implementation?\"\u001b[0m\u001b[1;39m,\n",
      "            \u001b[0m\u001b[34;1m\"thoughtSignature\"\u001b[0m\u001b[1;39m: \u001b[0m\u001b[0;32m\"CskBAVSoXO6+Kon4UZQDQWLYEM95cKsrl2kpcjP1RoCyIST6oF+YNdGSEs2M6kCaDh94h7jZ+4fPtAAIBA9np5NwuKS4IOGdRtRwdKBQZCopziKQt4RWkLB+yGHNgwREYrZCN6FyYIfxXHzjueCEO9BCX8BZhsOrSV6LGTnEIegeJ3scjIM2wqye6DzxST0KNOmxx/khkgmIScoerTjDQJ3cJqnyffqIR98qmELwC7gpfynV6LHwPnvsfChJFR+mC3xDNK1ylbruEEcU\"\u001b[0m\u001b[1;39m\n",
      "          \u001b[1;39m}\u001b[0m\u001b[1;39m\n",
      "        \u001b[1;39m]\u001b[0m\u001b[1;39m,\n",
      "        \u001b[0m\u001b[34;1m\"role\"\u001b[0m\u001b[1;39m: \u001b[0m\u001b[0;32m\"model\"\u001b[0m\u001b[1;39m\n",
      "      \u001b[1;39m}\u001b[0m\u001b[1;39m,\n",
      "      \u001b[0m\u001b[34;1m\"finishReason\"\u001b[0m\u001b[1;39m: \u001b[0m\u001b[0;32m\"STOP\"\u001b[0m\u001b[1;39m,\n",
      "      \u001b[0m\u001b[34;1m\"index\"\u001b[0m\u001b[1;39m: \u001b[0m\u001b[0;39m0\u001b[0m\u001b[1;39m\n",
      "    \u001b[1;39m}\u001b[0m\u001b[1;39m\n",
      "  \u001b[1;39m]\u001b[0m\u001b[1;39m,\n",
      "  \u001b[0m\u001b[34;1m\"usageMetadata\"\u001b[0m\u001b[1;39m: \u001b[0m\u001b[1;39m{\n",
      "    \u001b[0m\u001b[34;1m\"promptTokenCount\"\u001b[0m\u001b[1;39m: \u001b[0m\u001b[0;39m13288\u001b[0m\u001b[1;39m,\n",
      "    \u001b[0m\u001b[34;1m\"candidatesTokenCount\"\u001b[0m\u001b[1;39m: \u001b[0m\u001b[0;39m14\u001b[0m\u001b[1;39m,\n",
      "    \u001b[0m\u001b[34;1m\"totalTokenCount\"\u001b[0m\u001b[1;39m: \u001b[0m\u001b[0;39m13337\u001b[0m\u001b[1;39m,\n",
      "    \u001b[0m\u001b[34;1m\"promptTokensDetails\"\u001b[0m\u001b[1;39m: \u001b[0m\u001b[1;39m[\n",
      "      \u001b[1;39m{\n",
      "        \u001b[0m\u001b[34;1m\"modality\"\u001b[0m\u001b[1;39m: \u001b[0m\u001b[0;32m\"TEXT\"\u001b[0m\u001b[1;39m,\n",
      "        \u001b[0m\u001b[34;1m\"tokenCount\"\u001b[0m\u001b[1;39m: \u001b[0m\u001b[0;39m13288\u001b[0m\u001b[1;39m\n",
      "      \u001b[1;39m}\u001b[0m\u001b[1;39m\n",
      "    \u001b[1;39m]\u001b[0m\u001b[1;39m,\n",
      "    \u001b[0m\u001b[34;1m\"thoughtsTokenCount\"\u001b[0m\u001b[1;39m: \u001b[0m\u001b[0;39m35\u001b[0m\u001b[1;39m\n",
      "  \u001b[1;39m}\u001b[0m\u001b[1;39m,\n",
      "  \u001b[0m\u001b[34;1m\"modelVersion\"\u001b[0m\u001b[1;39m: \u001b[0m\u001b[0;32m\"gemini-2.5-flash-lite-preview-06-17\"\u001b[0m\u001b[1;39m,\n",
      "  \u001b[0m\u001b[34;1m\"responseId\"\u001b[0m\u001b[1;39m: \u001b[0m\u001b[0;32m\"205zaN2hNKPK-8YPnayqKQ\"\u001b[0m\u001b[1;39m\n",
      "\u001b[1;39m}\u001b[0m\n"
     ]
    }
   ],
   "source": [
    "\n",
    "\n",
    "!curl \"https://generativelanguage.googleapis.com/v1beta/models/gemini-2.5-flash-lite-preview-06-17:generateContent\" \\\n",
    "  -H 'Content-Type: application/json' \\\n",
    "  -H \"X-goog-api-key: $GEMINI_API_KEY\" \\\n",
    "  -X POST \\\n",
    "  -d @case3.json | jq"
   ]
  },
  {
   "cell_type": "code",
   "execution_count": 7,
   "id": "79ea56b5",
   "metadata": {},
   "outputs": [
    {
     "name": "stdout",
     "output_type": "stream",
     "text": [
      "{\n",
      "  \"candidates\": [\n",
      "    {\n",
      "      \"content\": {\n",
      "        \"parts\": [\n",
      "          {\n",
      "            \"text\": \"Okay, here's an implementation of Quicksort in Rust.\\n\\nThis implementation uses a recursive approach with Lomuto's partition scheme.\\n\\n\",\n",
      "            \"thoughtSignature\": \"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\"\n",
      "          },\n",
      "          {\n",
      "            \"text\": \"```rust\\n/// Sorts a mutable slice in place using the Quicksort algorithm.\\n///\\n/// # Type Parameters\\n///\\n/// * `T`: The type of elements in the slice. Must implement `Ord` for comparison\\n///        and `Clone` to handle the pivot element.\\n///\\n/// # Arguments\\n///\\n/// * `arr`: A mutable slice of elements to be sorted.\\n///\\n/// # Examples\\n///\\n/// ```\"\n",
      "          },\n",
      "          {\n",
      "            \"text\": \"\\n/// let mut numbers = vec![4, 65, 2, 97, 1, 3, 5, 8, 7, 0];\\n/// quicksort(&mut numbers);\\n/// assert_eq!(numbers, vec![0, 1, 2, 3, 4, 5, 6, 7, 8, 97]);\\n///\\n/// let mut strings = vec![\\\"banana\\\", \\\"apple\\\", \\\"cherry\\\", \\\"date\\\"];\\n/// quicksort(&mut strings);\\n/// assert_eq!(strings, vec![\\\"apple\\\", \\\"banana\\\", \\\"cherry\\\", \\\"date\\\"]);\\n/// \"\n",
      "          },\n",
      "          {\n",
      "            \"text\": \"```\\npub fn quicksort\\u003cT: Ord + Clone\\u003e(arr: &mut [T]) {\\n    let len = arr.len();\\n    if len \\u003c= 1 {\\n        return; // Base case: slice is already sorted if it has 0 or 1 element.\\n    }\\n\\n    // Partition the array and get the pivot's final index.\\n    let pivot_index = partition(arr);\\n\\n    // Recursively sort the sub-array before the pivot.\\n    // Ensure we don't create an empty slice if pivot_index is 0.\\n    if pivot_index \\u003e 0 {\\n        quicksort(&mut arr[0..pivot_index]);\\n    }\\n\\n    // Recursively sort the sub-array after the pivot.\\n    // Ensure we don't create an empty slice if pivot_index is the last element.\\n    if pivot_index \\u003c len - 1 {\\n        quicksort(&mut arr[pivot_index + 1..len]);\\n    }\\n}\\n\\n/// Partitions a mutable slice around a pivot element (the last element).\\n/// Elements smaller than or equal to the pivot are moved to the left,\\n/// and elements greater than the pivot are moved to the right.\\n///\\n/// Returns the final index of the pivot element.\\n///\\n/// # Arguments\\n///\\n/// * `arr`: A mutable slice of elements to be partitioned.\\n///\\n/// # Returns\\n///\\n/// The index of the pivot element after partitioning.\\nfn partition\\u003cT: Ord + Clone\\u003e(arr: &mut [T]) -\\u003e usize {\\n    let len = arr.len();\\n    // We use the last element as the pivot.\\n    let pivot_index = len - 1;\\n    // Clone the pivot to avoid issues with borrowing `arr` mutably later.\\n    let pivot = arr[pivot_index].clone();\\n\\n    // `i` is the index of the last element that was smaller than or equal to the pivot.\\n    // It also serves as the boundary for the \\\"less than or equal to pivot\\\" partition.\\n    let mut i = 0;\\n\\n    // Iterate through the array from the first element up to (but not including) the pivot.\\n    for j in 0..len - 1 {\\n        // If the current element `arr[j]` is less than or equal to the pivot,\\n        // swap it with the element at index `i` and increment `i`.\\n        // This moves smaller elements to the left side of the partition.\\n        if arr[j] \\u003c= pivot {\\n            arr.swap(i, j);\\n            i += 1;\\n        }\\n    }\\n\\n    // After the loop, `i` is the index where the pivot should be placed.\\n    // Swap the pivot (which is currently at `pivot_index`) with the element at `i`.\\n    arr.swap(i, pivot_index);\\n\\n    // Return the pivot's final index.\\n    i\\n}\\n\\n// Example of how to use it in a main function or test:\\n/*\\nfn main() {\\n    let mut numbers = vec![4, 65, 2, 97, 1, 3, 5, 8, 7, 0];\\n    println!(\\\"Unsorted: {:?}\\\", numbers);\\n    quicksort(&mut numbers);\\n    println!(\\\"Sorted: {:?}\\\", numbers);\\n\\n    let mut strings = vec![\\\"banana\\\", \\\"apple\\\", \\\"cherry\\\", \\\"date\\\"];\\n    println!(\\\"Unsorted: {:?}\\\", strings);\\n    quicksort(&mut strings);\\n    println!(\\\"Sorted: {:?}\\\", strings);\\n}\\n*/\\n```\"\n",
      "          },\n",
      "          {\n",
      "            \"text\": \"\\n\\n**Explanation:**\\n\\n1.  **`quicksort\\u003cT: Ord + Clone\\u003e(arr: &mut [T])`**:\\n    *   This is the main function. It takes a mutable slice `arr` of any type `T`.\\n    *   `T: Ord` means the elements must be orderable (support comparison operators like `\\u003c`, `\\u003c=`, `\\u003e`, `\\u003e=`).\\n    *   `T: Clone` is required because we need to take a copy of the pivot element to compare against other elements without holding a mutable borrow on the entire slice.\\n    *   **Base Case**: If the slice has 0 or 1 element, it's already sorted, so the function returns.\\n    *   **Partitioning**: It calls the `partition` function to rearrange the slice and get the index of the pivot.\\n    *   **Recursion**: It then recursively calls `quicksort` on the sub-slice *before* the pivot and the sub-slice *after* the pivot.\\n\\n2.  **`partition\\u003cT: Ord + Clone\\u003e(arr: &mut [T]) -\\u003e usize`**:\\n    *   This function implements Lomuto's partition scheme.\\n    *   It selects the last element of the slice as the `pivot`.\\n    *   It maintains an index `i` which tracks the boundary between elements smaller than or equal to the pivot and elements greater than the pivot.\\n    *   It iterates through the slice (excluding the pivot itself). If an element `arr[j]` is found to be less than or equal to the `pivot`, it's swapped with the element at index `i`, and `i` is incremented.\\n    *   Finally, the `pivot` (which was at the end) is swapped with the element at index `i`. This places the pivot in its correct sorted position.\\n    *   The function returns `i`, the final index of the pivot.\\n\\nThis implementation is a standard way to perform Quicksort. For very large datasets or specific performance needs, variations like choosing a random pivot or using a three-way partition might be considered.\"\n",
      "          }\n",
      "        ],\n",
      "        \"role\": \"model\"\n",
      "      },\n",
      "      \"finishReason\": \"STOP\",\n",
      "      \"index\": 0\n",
      "    }\n",
      "  ],\n",
      "  \"usageMetadata\": {\n",
      "    \"promptTokenCount\": 13307,\n",
      "    \"candidatesTokenCount\": 1511,\n",
      "    \"totalTokenCount\": 15669,\n",
      "    \"cachedContentTokenCount\": 12918,\n",
      "    \"promptTokensDetails\": [\n",
      "      {\n",
      "        \"modality\": \"TEXT\",\n",
      "        \"tokenCount\": 13307\n",
      "      }\n",
      "    ],\n",
      "    \"cacheTokensDetails\": [\n",
      "      {\n",
      "        \"modality\": \"TEXT\",\n",
      "        \"tokenCount\": 12918\n",
      "      }\n",
      "    ],\n",
      "    \"thoughtsTokenCount\": 851\n",
      "  },\n",
      "  \"modelVersion\": \"gemini-2.5-flash-lite-preview-06-17\",\n",
      "  \"responseId\": \"NlBzaOrdI4SQ-8YP_rDM-Ao\"\n",
      "}\n"
     ]
    }
   ],
   "source": [
    "\n",
    "\n",
    "!curl \"https://generativelanguage.googleapis.com/v1beta/models/gemini-2.5-flash-lite-preview-06-17:generateContent\" \\\n",
    "  -H 'Content-Type: application/json' \\\n",
    "  -H \"X-goog-api-key: $GEMINI_API_KEY\" \\\n",
    "  -X POST \\\n",
    "  -d @case3_1.json"
   ]
  }
 ],
 "metadata": {
  "kernelspec": {
   "display_name": "Python 3",
   "language": "python",
   "name": "python3"
  },
  "language_info": {
   "codemirror_mode": {
    "name": "ipython",
    "version": 3
   },
   "file_extension": ".py",
   "mimetype": "text/x-python",
   "name": "python",
   "nbconvert_exporter": "python",
   "pygments_lexer": "ipython3",
   "version": "3.10.12"
  }
 },
 "nbformat": 4,
 "nbformat_minor": 5
}
