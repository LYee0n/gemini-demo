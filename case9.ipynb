{
 "cells": [
  {
   "cell_type": "code",
   "execution_count": null,
   "id": "057f0de3",
   "metadata": {},
   "outputs": [],
   "source": [
    "%set_env GEMINI_API_KEY="
   ]
  },
  {
   "cell_type": "code",
   "execution_count": 8,
   "id": "26295cd5",
   "metadata": {},
   "outputs": [
    {
     "name": "stdout",
     "output_type": "stream",
     "text": [
      "  % Total    % Received % Xferd  Average Speed   Time    Time     Time  Current\n",
      "                                 Dload  Upload   Total   Spent    Left  Speed\n",
      "  0     0    0     0    0     0      0      0 --:--:-- --:--:-- --:--:--     0"
     ]
    },
    {
     "name": "stdout",
     "output_type": "stream",
     "text": [
      "100  2111    0   994  100  1117    341    383  0:00:02  0:00:02 --:--:--   724\n",
      "\u001b[1;39m[\n",
      "  \u001b[0;32m\"Identify the winner of the most recent Australian Open Men's Singles tournament.\"\u001b[0m\u001b[1;39m,\n",
      "  \u001b[0;32m\"Find the hometown of the identified Men's Singles winner.\"\u001b[0m\u001b[1;39m,\n",
      "  \u001b[0;32m\"Identify the winner of the most recent Australian Open Women's Singles tournament.\"\u001b[0m\u001b[1;39m,\n",
      "  \u001b[0;32m\"Find the hometown of the identified Women's Singles winner.\"\u001b[0m\u001b[1;39m,\n",
      "  \u001b[0;32m\"State the hometowns of both the Men's Singles and Women's Singles winners.\"\u001b[0m\u001b[1;39m\n",
      "\u001b[1;39m]\u001b[0m\n"
     ]
    }
   ],
   "source": [
    "\n",
    "\n",
    "!curl \"https://generativelanguage.googleapis.com/v1beta/models/gemini-2.5-flash-lite-preview-06-17:generateContent\" \\\n",
    "  -H 'Content-Type: application/json' \\\n",
    "  -H \"X-goog-api-key: $GEMINI_API_KEY\" \\\n",
    "  -X POST \\\n",
    "  -d @case9.json | jq '.candidates[0].content.parts[0].text' -r | jq '.steps'"
   ]
  },
  {
   "cell_type": "code",
   "execution_count": 5,
   "id": "ff78cf6a",
   "metadata": {},
   "outputs": [
    {
     "name": "stdout",
     "output_type": "stream",
     "text": [
      "  % Total    % Received % Xferd  Average Speed   Time    Time     Time  Current\n",
      "                                 Dload  Upload   Total   Spent    Left  Speed\n",
      "  0     0    0     0    0     0      0      0 --:--:-- --:--:-- --:--:--     0"
     ]
    },
    {
     "name": "stdout",
     "output_type": "stream",
     "text": [
      "100  2981    0   836  100  2145    784   2013  0:00:01  0:00:01 --:--:--  2799\n",
      "\u001b[1;39m{\n",
      "  \u001b[0m\u001b[34;1m\"action\"\u001b[0m\u001b[1;39m: \u001b[0m\u001b[1;39m{\n",
      "    \u001b[0m\u001b[34;1m\"steps\"\u001b[0m\u001b[1;39m: \u001b[0m\u001b[1;39m[\n",
      "      \u001b[0;32m\"Search for the winner of the most recent Australian Open Men's Singles tournament.\"\u001b[0m\u001b[1;39m,\n",
      "      \u001b[0;32m\"Identify the name of the winner from the search results.\"\u001b[0m\u001b[1;39m,\n",
      "      \u001b[0;32m\"State the winner's name as the final answer.\"\u001b[0m\u001b[1;39m\n",
      "    \u001b[1;39m]\u001b[0m\u001b[1;39m\n",
      "  \u001b[1;39m}\u001b[0m\u001b[1;39m\n",
      "\u001b[1;39m}\u001b[0m\n"
     ]
    }
   ],
   "source": [
    "\n",
    "\n",
    "!curl \"https://generativelanguage.googleapis.com/v1beta/models/gemini-2.5-flash-lite-preview-06-17:generateContent\" \\\n",
    "  -H 'Content-Type: application/json' \\\n",
    "  -H \"X-goog-api-key: $GEMINI_API_KEY\" \\\n",
    "  -X POST \\\n",
    "  -d @case9_1.json | jq '.candidates[0].content.parts[0].text' -r | jq"
   ]
  }
 ],
 "metadata": {
  "kernelspec": {
   "display_name": "Python 3",
   "language": "python",
   "name": "python3"
  },
  "language_info": {
   "codemirror_mode": {
    "name": "ipython",
    "version": 3
   },
   "file_extension": ".py",
   "mimetype": "text/x-python",
   "name": "python",
   "nbconvert_exporter": "python",
   "pygments_lexer": "ipython3",
   "version": "3.10.12"
  }
 },
 "nbformat": 4,
 "nbformat_minor": 5
}
