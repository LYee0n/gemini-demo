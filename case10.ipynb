{
 "cells": [
  {
   "cell_type": "code",
   "execution_count": null,
   "id": "b7c8ef1d",
   "metadata": {},
   "outputs": [],
   "source": [
    "%set_env OPENROUTER_BASE_URL=https://gateway.ai.cloudflare.com/v1/0177dfd3fc04f0bb51d422b49f2dad20/jyasu-demo/openrouter\n",
    "%set_env OPENROUTER_API_KEY=\n",
    "%set_env OPENAIROUTER_MODEL=deepseek/deepseek-chat-v3-0324:free "
   ]
  },
  {
   "cell_type": "code",
   "execution_count": 10,
   "id": "1807f979",
   "metadata": {},
   "outputs": [
    {
     "name": "stdout",
     "output_type": "stream",
     "text": [
      "Note: you may need to restart the kernel to use updated packages.\n"
     ]
    }
   ],
   "source": [
    "!pip install -qU \"langchain\"\n",
    "!pip install -qU langchain_community\n",
    "!pip install -qU langgraph\n",
    "!pip install -qU \"langchain[openai]\"\n",
    "%pip install -qU langchain-openai"
   ]
  },
  {
   "cell_type": "code",
   "execution_count": 13,
   "id": "4d7b7dd4",
   "metadata": {},
   "outputs": [
    {
     "name": "stdout",
     "output_type": "stream",
     "text": [
      "To determine which NFL team won the Super Bowl in the year Justin Bieber was born, let's break it down step by step:\n",
      "\n",
      "1. **Find Justin Bieber's birth year**:  \n",
      "   Justin Bieber was born on March 1, 1994.  \n",
      "\n",
      "2. **Identify the NFL season and Super Bowl for that year**:  \n",
      "   The Super Bowl for the 1994 NFL season (which concluded in early 1995) was **Super Bowl XXIX**.  \n",
      "\n",
      "3. **Determine the teams and winner of Super Bowl XXIX**:  \n",
      "   - The game was played on January 29, 1995.  \n",
      "   - The competing teams were the **San Francisco 49ers** and the **San Diego Chargers**.  \n",
      "   - The San Francisco 49ers won the game decisively with a score of 49-26.  \n",
      "\n",
      "4. **Final Answer**:  \n",
      "   The **San Francisco 49ers** won the Super Bowl in the year Justin Bieber was born (1994 season, Super Bowl XXIX).  \n",
      "\n",
      "**Answer:** The San Francisco 49ers won the Super Bowl in the year Justin Bieber was born.\n"
     ]
    }
   ],
   "source": [
    "from langchain.chat_models import ChatOpenAI\n",
    "from langchain.prompts import PromptTemplate\n",
    "from langchain.chains import LLMChain\n",
    "from os import getenv\n",
    "from dotenv import load_dotenv\n",
    "\n",
    "load_dotenv()\n",
    "\n",
    "template = \"\"\"Question: {question}\n",
    "Answer: Let's think step by step.\"\"\"\n",
    "\n",
    "prompt = PromptTemplate(template=template, input_variables=[\"question\"])\n",
    "\n",
    "llm = ChatOpenAI(\n",
    "  openai_api_key=getenv(\"OPENROUTER_API_KEY\"),\n",
    "  openai_api_base=getenv(\"OPENROUTER_BASE_URL\"),\n",
    "  model_name=getenv(\"OPENAIROUTER_MODEL\"),\n",
    "  model_kwargs={\n",
    "  },\n",
    ")\n",
    "\n",
    "llm_chain = LLMChain(prompt=prompt, llm=llm)\n",
    "\n",
    "question = \"What NFL team won the Super Bowl in the year Justin Beiber was born?\"\n",
    "\n",
    "print(llm_chain.run(question))\n"
   ]
  }
 ],
 "metadata": {
  "kernelspec": {
   "display_name": "Python 3",
   "language": "python",
   "name": "python3"
  },
  "language_info": {
   "codemirror_mode": {
    "name": "ipython",
    "version": 3
   },
   "file_extension": ".py",
   "mimetype": "text/x-python",
   "name": "python",
   "nbconvert_exporter": "python",
   "pygments_lexer": "ipython3",
   "version": "3.10.12"
  }
 },
 "nbformat": 4,
 "nbformat_minor": 5
}
