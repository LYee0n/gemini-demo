{
 "cells": [
  {
   "cell_type": "code",
   "execution_count": null,
   "id": "71fa8de0",
   "metadata": {},
   "outputs": [],
   "source": [
    "%set_env GEMINI_API_KEY="
   ]
  },
  {
   "cell_type": "code",
   "execution_count": 5,
   "id": "38fbf188",
   "metadata": {},
   "outputs": [
    {
     "name": "stdout",
     "output_type": "stream",
     "text": [
      "  % Total    % Received % Xferd  Average Speed   Time    Time     Time  Current\n",
      "                                 Dload  Upload   Total   Spent    Left  Speed\n",
      "  0     0    0     0    0     0      0      0 --:--:-- --:--:-- --:--:--     0"
     ]
    },
    {
     "name": "stdout",
     "output_type": "stream",
     "text": [
      "100 69017    0   958  100 68059   1102  78315 --:--:-- --:--:-- --:--:-- 79421\n",
      "\u001b[1;39m{\n",
      "  \u001b[0m\u001b[34;1m\"candidates\"\u001b[0m\u001b[1;39m: \u001b[0m\u001b[1;39m[\n",
      "    \u001b[1;39m{\n",
      "      \u001b[0m\u001b[34;1m\"content\"\u001b[0m\u001b[1;39m: \u001b[0m\u001b[1;39m{\n",
      "        \u001b[0m\u001b[34;1m\"parts\"\u001b[0m\u001b[1;39m: \u001b[0m\u001b[1;39m[\n",
      "          \u001b[1;39m{\n",
      "            \u001b[0m\u001b[34;1m\"text\"\u001b[0m\u001b[1;39m: \u001b[0m\u001b[0;32m\"What programming language would you like to use for the quicksort implementation?\"\u001b[0m\u001b[1;39m,\n",
      "            \u001b[0m\u001b[34;1m\"thoughtSignature\"\u001b[0m\u001b[1;39m: \u001b[0m\u001b[0;32m\"CskBAVSoXO6+Kon4UZQDQWLYEM95cKsrl2kpcjP1RoCyIST6oF+YNdGSEs2M6kCaDh94h7jZ+4fPtAAIBA9np5NwuKS4IOGdRtRwdKBQZCopziKQt4RWkLB+yGHNgwREYrZCN6FyYIfxXHzjueCEO9BCX8BZhsOrSV6LGTnEIegeJ3scjIM2wqye6DzxST0KNOmxx/khkgmIScoerTjDQJ3cJqnyffqIR98qmELwC7gpfynV6LHwPnvsfChJFR+mC3xDNK1ylbruEEcU\"\u001b[0m\u001b[1;39m\n",
      "          \u001b[1;39m}\u001b[0m\u001b[1;39m\n",
      "        \u001b[1;39m]\u001b[0m\u001b[1;39m,\n",
      "        \u001b[0m\u001b[34;1m\"role\"\u001b[0m\u001b[1;39m: \u001b[0m\u001b[0;32m\"model\"\u001b[0m\u001b[1;39m\n",
      "      \u001b[1;39m}\u001b[0m\u001b[1;39m,\n",
      "      \u001b[0m\u001b[34;1m\"finishReason\"\u001b[0m\u001b[1;39m: \u001b[0m\u001b[0;32m\"STOP\"\u001b[0m\u001b[1;39m,\n",
      "      \u001b[0m\u001b[34;1m\"index\"\u001b[0m\u001b[1;39m: \u001b[0m\u001b[0;39m0\u001b[0m\u001b[1;39m\n",
      "    \u001b[1;39m}\u001b[0m\u001b[1;39m\n",
      "  \u001b[1;39m]\u001b[0m\u001b[1;39m,\n",
      "  \u001b[0m\u001b[34;1m\"usageMetadata\"\u001b[0m\u001b[1;39m: \u001b[0m\u001b[1;39m{\n",
      "    \u001b[0m\u001b[34;1m\"promptTokenCount\"\u001b[0m\u001b[1;39m: \u001b[0m\u001b[0;39m13288\u001b[0m\u001b[1;39m,\n",
      "    \u001b[0m\u001b[34;1m\"candidatesTokenCount\"\u001b[0m\u001b[1;39m: \u001b[0m\u001b[0;39m14\u001b[0m\u001b[1;39m,\n",
      "    \u001b[0m\u001b[34;1m\"totalTokenCount\"\u001b[0m\u001b[1;39m: \u001b[0m\u001b[0;39m13337\u001b[0m\u001b[1;39m,\n",
      "    \u001b[0m\u001b[34;1m\"promptTokensDetails\"\u001b[0m\u001b[1;39m: \u001b[0m\u001b[1;39m[\n",
      "      \u001b[1;39m{\n",
      "        \u001b[0m\u001b[34;1m\"modality\"\u001b[0m\u001b[1;39m: \u001b[0m\u001b[0;32m\"TEXT\"\u001b[0m\u001b[1;39m,\n",
      "        \u001b[0m\u001b[34;1m\"tokenCount\"\u001b[0m\u001b[1;39m: \u001b[0m\u001b[0;39m13288\u001b[0m\u001b[1;39m\n",
      "      \u001b[1;39m}\u001b[0m\u001b[1;39m\n",
      "    \u001b[1;39m]\u001b[0m\u001b[1;39m,\n",
      "    \u001b[0m\u001b[34;1m\"thoughtsTokenCount\"\u001b[0m\u001b[1;39m: \u001b[0m\u001b[0;39m35\u001b[0m\u001b[1;39m\n",
      "  \u001b[1;39m}\u001b[0m\u001b[1;39m,\n",
      "  \u001b[0m\u001b[34;1m\"modelVersion\"\u001b[0m\u001b[1;39m: \u001b[0m\u001b[0;32m\"gemini-2.5-flash-lite-preview-06-17\"\u001b[0m\u001b[1;39m,\n",
      "  \u001b[0m\u001b[34;1m\"responseId\"\u001b[0m\u001b[1;39m: \u001b[0m\u001b[0;32m\"205zaN2hNKPK-8YPnayqKQ\"\u001b[0m\u001b[1;39m\n",
      "\u001b[1;39m}\u001b[0m\n"
     ]
    }
   ],
   "source": [
    "\n",
    "\n",
    "!curl \"https://generativelanguage.googleapis.com/v1beta/models/gemini-2.5-flash-lite-preview-06-17:generateContent\" \\\n",
    "  -H 'Content-Type: application/json' \\\n",
    "  -H \"X-goog-api-key: $GEMINI_API_KEY\" \\\n",
    "  -X POST \\\n",
    "  -d @case3.json | jq"
   ]
  },
  {
   "cell_type": "code",
   "execution_count": 12,
   "id": "79ea56b5",
   "metadata": {},
   "outputs": [
    {
     "name": "stdout",
     "output_type": "stream",
     "text": [
      "{\n",
      "  \"candidates\": [\n",
      "    {\n",
      "      \"content\": {\n",
      "        \"parts\": [\n",
      "          {\n",
      "            \"functionCall\": {\n",
      "              \"name\": \"write_file\",\n",
      "              \"args\": {\n",
      "                \"file_path\": \"/workspace/gemini-cli/main.rs\",\n",
      "                \"content\": \"\\nfn quicksort\\u003cT: Ord\\u003e(arr: &mut [T]) {\\n    if arr.len() \\u003c= 1 {\\n        return;\\n    }\\n    let pivot_index = partition(arr);\\n    let (left, right) = arr.split_at_mut(pivot_index);\\n    quicksort(left);\\n    quicksort(&mut right[1..]); // Exclude the pivot from the right side\\n}\\n\\nfn partition\\u003cT: Ord\\u003e(arr: &mut [T]) -\\u003e usize {\\n    let len = arr.len();\\n    let pivot_index = len / 2; // Choose middle element as pivot\\n    arr.swap(pivot_index, len - 1); // Move pivot to end\\n\\n    let mut i = 0;\\n    for j in 0..len - 1 {\\n        if arr[j] \\u003c= arr[len - 1] {\\n            arr.swap(i, j);\\n            i += 1;\\n        }\\n    }\\n    arr.swap(i, len - 1); // Move pivot to its final place\\n    i\\n}\\n\\nfn main() {\\n    let mut numbers = vec![9, 4, 1, 7, 3, 8, 2, 6, 5];\\n    println!(\\\"Unsorted: {:?}\\\", numbers);\\n    quicksort(&mut numbers);\\n    println!(\\\"Sorted: {:?}\\\", numbers);\\n\\n    let mut strings = vec![\\\"banana\\\", \\\"apple\\\", \\\"cherry\\\", \\\"date\\\"];\\n    println!(\\\"Unsorted: {:?}\\\", strings);\\n    quicksort(&mut strings);\\n    println!(\\\"Sorted: {:?}\\\", strings);\\n}\\n\"\n",
      "              }\n",
      "            },\n",
      "            \"thoughtSignature\": \"Cr4DAVSoXO5wRiObR61N4VkKrcECy6dNzg9T3+MFDRZw+FS4ItWsV4oh6IFT4ajoYRmy7ykrNpvmF6/WXjNxkF7g5BJ1Yqmq301jtOwycn5EuK+SFcYTVXLZ0GI3+yTd7wVshvFyilQeBSqALIMoFcbpzm3/1oG+flgIAlXAQXldRD5O0jjo54gMURC8WEIaEUf32CHeiExtBCBe7NlNATTd5R3KX3ClcCnT5v5n5b9bNFGHfbn5t76buL3nVR1qzPKL8RkHX0LNPMoftn9v/W/kxD64NCB5tc9SghA6dEfWEQCstviBVTzO3pbJv7LWdDxULecbxAjKSJzEcCEcBu/k8srZpdfjtE3IPVBKsxaPXW+d+Idy6zurqFaXLL0ziaIXmFudyhijST+5ovwtQLAQRLBTpBqrpXkf3g2GhUW5h1ZzsJgfvl4AQd5LG/PPeBWEo8fxXDCfK8QWdJvSag18tPDwzWX4vshGvRlpYnzYyyJURd5MO1xS1T2PUjQVHiBuXNV+pbKALm2OvNIIytw+800KyeVXQ5MJQkxezTb21a45i0P2IuqPj1W/aOqAimO072A0SxZbn+BXOO58c5Y=\"\n",
      "          }\n",
      "        ],\n",
      "        \"role\": \"model\"\n",
      "      },\n",
      "      \"finishReason\": \"STOP\",\n",
      "      \"index\": 0\n",
      "    }\n",
      "  ],\n",
      "  \"usageMetadata\": {\n",
      "    \"promptTokenCount\": 13312,\n",
      "    \"candidatesTokenCount\": 435,\n",
      "    \"totalTokenCount\": 13857,\n",
      "    \"cachedContentTokenCount\": 12918,\n",
      "    \"promptTokensDetails\": [\n",
      "      {\n",
      "        \"modality\": \"TEXT\",\n",
      "        \"tokenCount\": 13312\n",
      "      }\n",
      "    ],\n",
      "    \"cacheTokensDetails\": [\n",
      "      {\n",
      "        \"modality\": \"TEXT\",\n",
      "        \"tokenCount\": 12918\n",
      "      }\n",
      "    ],\n",
      "    \"thoughtsTokenCount\": 110\n",
      "  },\n",
      "  \"modelVersion\": \"gemini-2.5-flash-lite-preview-06-17\",\n",
      "  \"responseId\": \"kVNzaMmXGcrP_uMP84nZwQo\"\n",
      "}\n"
     ]
    }
   ],
   "source": [
    "\n",
    "\n",
    "!curl \"https://generativelanguage.googleapis.com/v1beta/models/gemini-2.5-flash-lite-preview-06-17:generateContent\" \\\n",
    "  -H 'Content-Type: application/json' \\\n",
    "  -H \"X-goog-api-key: $GEMINI_API_KEY\" \\\n",
    "  -X POST \\\n",
    "  -d @case3_1.json"
   ]
  }
 ],
 "metadata": {
  "kernelspec": {
   "display_name": "Python 3",
   "language": "python",
   "name": "python3"
  },
  "language_info": {
   "codemirror_mode": {
    "name": "ipython",
    "version": 3
   },
   "file_extension": ".py",
   "mimetype": "text/x-python",
   "name": "python",
   "nbconvert_exporter": "python",
   "pygments_lexer": "ipython3",
   "version": "3.10.12"
  }
 },
 "nbformat": 4,
 "nbformat_minor": 5
}
