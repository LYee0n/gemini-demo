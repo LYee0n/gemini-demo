{
 "cells": [
  {
   "cell_type": "code",
   "execution_count": null,
   "id": "80c31e8c",
   "metadata": {},
   "outputs": [
    {
     "name": "stdout",
     "output_type": "stream",
     "text": [
      "{\n",
      "  \"candidates\": [\n",
      "    {\n",
      "      \"content\": {\n",
      "        \"parts\": [\n",
      "          {\n",
      "            \"text\": \"I'm sorry, but I don't see any instrument in this image. The image depicts a cartoon pig with wings and a top hat flying over a futuristic city.\"\n",
      "          }\n",
      "        ],\n",
      "        \"role\": \"model\"\n",
      "      },\n",
      "      \"finishReason\": \"STOP\",\n",
      "      \"index\": 0\n",
      "    }\n",
      "  ],\n",
      "  \"usageMetadata\": {\n",
      "    \"promptTokenCount\": 263,\n",
      "    \"candidatesTokenCount\": 35,\n",
      "    \"totalTokenCount\": 377,\n",
      "    \"promptTokensDetails\": [\n",
      "      {\n",
      "        \"modality\": \"TEXT\",\n",
      "        \"tokenCount\": 5\n",
      "      },\n",
      "      {\n",
      "        \"modality\": \"IMAGE\",\n",
      "        \"tokenCount\": 258\n",
      "      }\n",
      "    ],\n",
      "    \"thoughtsTokenCount\": 79\n",
      "  },\n",
      "  \"modelVersion\": \"gemini-2.5-flash\",\n",
      "  \"responseId\": \"OVxzaPjSO6zzjrEPnq2gsQs\"\n",
      "}\n"
     ]
    }
   ],
   "source": [
    "\n",
    "!curl \"https://generativelanguage.googleapis.com/v1beta/models/gemini-2.5-flash:generateContent?key=$GEMINI_API_KEY\" \\\n",
    "  -H 'Content-Type: application/json' \\\n",
    "  -X POST \\\n",
    "  -d @case6.json"
   ]
  }
 ],
 "metadata": {
  "kernelspec": {
   "display_name": "Python 3",
   "language": "python",
   "name": "python3"
  },
  "language_info": {
   "codemirror_mode": {
    "name": "ipython",
    "version": 3
   },
   "file_extension": ".py",
   "mimetype": "text/x-python",
   "name": "python",
   "nbconvert_exporter": "python",
   "pygments_lexer": "ipython3",
   "version": "3.10.12"
  }
 },
 "nbformat": 4,
 "nbformat_minor": 5
}
