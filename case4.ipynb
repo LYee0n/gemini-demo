{
 "cells": [
  {
   "cell_type": "code",
   "execution_count": null,
   "id": "3e2d189c",
   "metadata": {},
   "outputs": [],
   "source": [
    "%set_env GEMINI_API_KEY="
   ]
  },
  {
   "cell_type": "code",
   "execution_count": 3,
   "id": "2f9b8d7f",
   "metadata": {},
   "outputs": [
    {
     "name": "stdout",
     "output_type": "stream",
     "text": [
      "{\n",
      "  \"candidates\": [\n",
      "    {\n",
      "      \"content\": {\n",
      "        \"parts\": [\n",
      "          {\n",
      "            \"functionCall\": {\n",
      "              \"name\": \"get_current_temperature\",\n",
      "              \"args\": {\n",
      "                \"location\": \"London\"\n",
      "              }\n",
      "            }\n",
      "          }\n",
      "        ],\n",
      "        \"role\": \"model\"\n",
      "      },\n",
      "      \"finishReason\": \"STOP\",\n",
      "      \"index\": 0\n",
      "    }\n",
      "  ],\n",
      "  \"usageMetadata\": {\n",
      "    \"promptTokenCount\": 61,\n",
      "    \"candidatesTokenCount\": 17,\n",
      "    \"totalTokenCount\": 78,\n",
      "    \"promptTokensDetails\": [\n",
      "      {\n",
      "        \"modality\": \"TEXT\",\n",
      "        \"tokenCount\": 61\n",
      "      }\n",
      "    ]\n",
      "  },\n",
      "  \"modelVersion\": \"gemini-2.5-flash-lite-preview-06-17\",\n",
      "  \"responseId\": \"T1FzaMLEFN3xjrEPppK0iQw\"\n",
      "}\n"
     ]
    }
   ],
   "source": [
    "!curl \"https://generativelanguage.googleapis.com/v1beta/models/gemini-2.5-flash-lite-preview-06-17:generateContent\" \\\n",
    "  -H \"x-goog-api-key: $GEMINI_API_KEY\" \\\n",
    "  -H 'Content-Type: application/json' \\\n",
    "  -X POST \\\n",
    "  -d @case4.json"
   ]
  }
 ],
 "metadata": {
  "kernelspec": {
   "display_name": "Python 3",
   "language": "python",
   "name": "python3"
  },
  "language_info": {
   "codemirror_mode": {
    "name": "ipython",
    "version": 3
   },
   "file_extension": ".py",
   "mimetype": "text/x-python",
   "name": "python",
   "nbconvert_exporter": "python",
   "pygments_lexer": "ipython3",
   "version": "3.10.12"
  }
 },
 "nbformat": 4,
 "nbformat_minor": 5
}
