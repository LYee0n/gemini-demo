{
 "cells": [
  {
   "cell_type": "code",
   "execution_count": null,
   "id": "71fa8de0",
   "metadata": {},
   "outputs": [],
   "source": [
    "%set_env GEMINI_API_KEY="
   ]
  },
  {
   "cell_type": "code",
   "execution_count": 5,
   "id": "38fbf188",
   "metadata": {},
   "outputs": [
    {
     "name": "stdout",
     "output_type": "stream",
     "text": [
      "  % Total    % Received % Xferd  Average Speed   Time    Time     Time  Current\n",
      "                                 Dload  Upload   Total   Spent    Left  Speed\n",
      "  0     0    0     0    0     0      0      0 --:--:-- --:--:-- --:--:--     0"
     ]
    },
    {
     "name": "stdout",
     "output_type": "stream",
     "text": [
      "100 69017    0   958  100 68059   1102  78315 --:--:-- --:--:-- --:--:-- 79421\n",
      "\u001b[1;39m{\n",
      "  \u001b[0m\u001b[34;1m\"candidates\"\u001b[0m\u001b[1;39m: \u001b[0m\u001b[1;39m[\n",
      "    \u001b[1;39m{\n",
      "      \u001b[0m\u001b[34;1m\"content\"\u001b[0m\u001b[1;39m: \u001b[0m\u001b[1;39m{\n",
      "        \u001b[0m\u001b[34;1m\"parts\"\u001b[0m\u001b[1;39m: \u001b[0m\u001b[1;39m[\n",
      "          \u001b[1;39m{\n",
      "            \u001b[0m\u001b[34;1m\"text\"\u001b[0m\u001b[1;39m: \u001b[0m\u001b[0;32m\"What programming language would you like to use for the quicksort implementation?\"\u001b[0m\u001b[1;39m,\n",
      "            \u001b[0m\u001b[34;1m\"thoughtSignature\"\u001b[0m\u001b[1;39m: \u001b[0m\u001b[0;32m\"CskBAVSoXO6+Kon4UZQDQWLYEM95cKsrl2kpcjP1RoCyIST6oF+YNdGSEs2M6kCaDh94h7jZ+4fPtAAIBA9np5NwuKS4IOGdRtRwdKBQZCopziKQt4RWkLB+yGHNgwREYrZCN6FyYIfxXHzjueCEO9BCX8BZhsOrSV6LGTnEIegeJ3scjIM2wqye6DzxST0KNOmxx/khkgmIScoerTjDQJ3cJqnyffqIR98qmELwC7gpfynV6LHwPnvsfChJFR+mC3xDNK1ylbruEEcU\"\u001b[0m\u001b[1;39m\n",
      "          \u001b[1;39m}\u001b[0m\u001b[1;39m\n",
      "        \u001b[1;39m]\u001b[0m\u001b[1;39m,\n",
      "        \u001b[0m\u001b[34;1m\"role\"\u001b[0m\u001b[1;39m: \u001b[0m\u001b[0;32m\"model\"\u001b[0m\u001b[1;39m\n",
      "      \u001b[1;39m}\u001b[0m\u001b[1;39m,\n",
      "      \u001b[0m\u001b[34;1m\"finishReason\"\u001b[0m\u001b[1;39m: \u001b[0m\u001b[0;32m\"STOP\"\u001b[0m\u001b[1;39m,\n",
      "      \u001b[0m\u001b[34;1m\"index\"\u001b[0m\u001b[1;39m: \u001b[0m\u001b[0;39m0\u001b[0m\u001b[1;39m\n",
      "    \u001b[1;39m}\u001b[0m\u001b[1;39m\n",
      "  \u001b[1;39m]\u001b[0m\u001b[1;39m,\n",
      "  \u001b[0m\u001b[34;1m\"usageMetadata\"\u001b[0m\u001b[1;39m: \u001b[0m\u001b[1;39m{\n",
      "    \u001b[0m\u001b[34;1m\"promptTokenCount\"\u001b[0m\u001b[1;39m: \u001b[0m\u001b[0;39m13288\u001b[0m\u001b[1;39m,\n",
      "    \u001b[0m\u001b[34;1m\"candidatesTokenCount\"\u001b[0m\u001b[1;39m: \u001b[0m\u001b[0;39m14\u001b[0m\u001b[1;39m,\n",
      "    \u001b[0m\u001b[34;1m\"totalTokenCount\"\u001b[0m\u001b[1;39m: \u001b[0m\u001b[0;39m13337\u001b[0m\u001b[1;39m,\n",
      "    \u001b[0m\u001b[34;1m\"promptTokensDetails\"\u001b[0m\u001b[1;39m: \u001b[0m\u001b[1;39m[\n",
      "      \u001b[1;39m{\n",
      "        \u001b[0m\u001b[34;1m\"modality\"\u001b[0m\u001b[1;39m: \u001b[0m\u001b[0;32m\"TEXT\"\u001b[0m\u001b[1;39m,\n",
      "        \u001b[0m\u001b[34;1m\"tokenCount\"\u001b[0m\u001b[1;39m: \u001b[0m\u001b[0;39m13288\u001b[0m\u001b[1;39m\n",
      "      \u001b[1;39m}\u001b[0m\u001b[1;39m\n",
      "    \u001b[1;39m]\u001b[0m\u001b[1;39m,\n",
      "    \u001b[0m\u001b[34;1m\"thoughtsTokenCount\"\u001b[0m\u001b[1;39m: \u001b[0m\u001b[0;39m35\u001b[0m\u001b[1;39m\n",
      "  \u001b[1;39m}\u001b[0m\u001b[1;39m,\n",
      "  \u001b[0m\u001b[34;1m\"modelVersion\"\u001b[0m\u001b[1;39m: \u001b[0m\u001b[0;32m\"gemini-2.5-flash-lite-preview-06-17\"\u001b[0m\u001b[1;39m,\n",
      "  \u001b[0m\u001b[34;1m\"responseId\"\u001b[0m\u001b[1;39m: \u001b[0m\u001b[0;32m\"205zaN2hNKPK-8YPnayqKQ\"\u001b[0m\u001b[1;39m\n",
      "\u001b[1;39m}\u001b[0m\n"
     ]
    }
   ],
   "source": [
    "\n",
    "\n",
    "!curl \"https://generativelanguage.googleapis.com/v1beta/models/gemini-2.5-flash-lite-preview-06-17:generateContent\" \\\n",
    "  -H 'Content-Type: application/json' \\\n",
    "  -H \"X-goog-api-key: $GEMINI_API_KEY\" \\\n",
    "  -X POST \\\n",
    "  -d @case3.json | jq"
   ]
  }
 ],
 "metadata": {
  "kernelspec": {
   "display_name": "Python 3",
   "language": "python",
   "name": "python3"
  },
  "language_info": {
   "codemirror_mode": {
    "name": "ipython",
    "version": 3
   },
   "file_extension": ".py",
   "mimetype": "text/x-python",
   "name": "python",
   "nbconvert_exporter": "python",
   "pygments_lexer": "ipython3",
   "version": "3.10.12"
  }
 },
 "nbformat": 4,
 "nbformat_minor": 5
}
